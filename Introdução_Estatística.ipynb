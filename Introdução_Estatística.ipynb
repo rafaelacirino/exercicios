{
  "nbformat": 4,
  "nbformat_minor": 0,
  "metadata": {
    "colab": {
      "name": "Introdução_Estatística.ipynb",
      "provenance": [],
      "collapsed_sections": [],
      "authorship_tag": "ABX9TyPXkwv2ili3k/osyVOL5Ays",
      "include_colab_link": true
    },
    "kernelspec": {
      "name": "python3",
      "display_name": "Python 3"
    }
  },
  "cells": [
    {
      "cell_type": "markdown",
      "metadata": {
        "id": "view-in-github",
        "colab_type": "text"
      },
      "source": [
        "<a href=\"https://colab.research.google.com/github/rafaelacirino/exercicios/blob/main/Introdu%C3%A7%C3%A3o_Estat%C3%ADstica.ipynb\" target=\"_parent\"><img src=\"https://colab.research.google.com/assets/colab-badge.svg\" alt=\"Open In Colab\"/></a>"
      ]
    },
    {
      "cell_type": "markdown",
      "metadata": {
        "id": "gNAt3d9lRZrx"
      },
      "source": [
        "<h1>Estatística</h1>\n",
        "\n",
        "<p align='justify'>\n",
        "Estatística trata-se de um ramo da matemática aplicada, uma metodologia, uma técnica científica, adotada para se trabalhar com <i>dados</i>, ou seja, com <i>elementos de pesquisa</i>. Esta metodologia consiste em uma série de etapas iniciando pela <b>coleta</b> das informações (dos dados) que, após coletadas, passarão por uma <b>organização</b> e <b>apresentação</b>. A próxima fase será a <b>análise</b> desses dados a qual funcionará como um meio pelo qual se chegará a uma conclusão que dará ensejo a uma <b>tomada de decisão</b>.<br>\n",
        "\n",
        "A inferência estatística é  uma das partes da estatística . \\esta, por sua vez, tem o objetivo de fazer a coleta, redução, análise e modelagem dos dados, a partir do que se faz a inferência para uma população da qual os dados (amostra) foram obtidos. Um aspecto importante da modelagem dos dados é fazer previsões a partir das quais pode-se tomar decisões.\n",
        "\n",
        "Fases de um processo estatístico:\n",
        "<ol>\n",
        "<li>Coleta; \n",
        "<li>Organização;\n",
        "<li>Apresentação ou Descrição dos dados;  \n",
        "<li>Análise;\n",
        "<li>Tomada de Decisão;\n",
        "</ol>\n",
        "\n",
        "Dados Brutos: dados coletados porém desordenados.\n",
        "\n",
        "Classificação da estatística:\n",
        "<ul>\n",
        "<li><b>Estatística Descritiva ou Dedutiva</b>: encarregada da coleta, organização e descrição dos dados. Essas três etapas iniciais são a <i>síntese dos dados</i>.\n",
        "<li><b>Estatística Indutiva ou Inferencial ou Avançada</b>: responsável pelas etapas finais do processo estatístico: análise e tomada de decisão.\n",
        "</ul>\n",
        "Conceitos básicos:\n",
        "<ul>\n",
        "<li><b>População</b>: também chamado de conjunto universo. É o conjunto pelo qual se pretende extrair a informação e cujos elementos têm, pleo menos, uma característica comum, a qual está inserida no contexto daquilo que se deseja analisar. \n",
        "<li><b>Ceenso</b>: uma das formas de se processar um estudo estatístico. É o tipo de estudo estatístico que abrange todos os elementos da população.\n",
        "<li><b>Amostragem</b>: se contrapõe ao censo. É uma <i>amostra</i>, ou seja, uma parte, um subconjunto da população que representará o conjunto inteiro. Para que seja considerado uma amostra, é preciso que esta parte seja representativa do todo. Amostra é uma parte da população (um subconjunto), a partir da qual se pode auferir conclusões acerca desta mesma população, dando-lhe o caráter de representatividade.\n",
        "</ul>\n",
        "Quando se procede a uma análise de dados, busca-se alguma forma de <i>regularidade</i> ou <i>padrão</i> ou, ainda, <i>modelo</i>, presente nas observações.\n",
        "</p>\n"
      ]
    },
    {
      "cell_type": "markdown",
      "metadata": {
        "id": "9hJja1lO_31Q"
      },
      "source": [
        "* # Informações Estatísticas com Pandas\n",
        "\n",
        "A área de ciência de dados é entrelaçada com a estatística, pois através da estatística podemos analisar e gerar relatórios aprofundados baseados em dados estatísticos.\n",
        "\n",
        "Baseados em análises e modelos de machine learning, há pilares baseados na estatística e matemática. A estatística revela dados e descarta hipóteses em um projeto de Data Science.\n",
        "\n",
        "Para conhecer algumas das principais funções do Pandas, será utilizado o *dataset* do projeto **[+BIKE](http://maisbikecompartilhada.com.br)**, que distribui bicicletas em pontos estratégicos de Brasília-DF, oferecendo uma solução de transporte que contribui com a mobilidade das pessoas na capital.\n",
        "\n",
        "Caso deseje conhecer a base de dados original, basta acessar [este link](https://www.kaggle.com/joseguilhermelopes/bike-sharing-system-in-brasilia-brazil/downloads/bike-sharing-system-in-brasilia-brazil.zip/1#df_rides.csv)."
      ]
    },
    {
      "cell_type": "code",
      "metadata": {
        "id": "SaIESitJAQC4"
      },
      "source": [
        "#importar pandas\n",
        "import pandas as pd"
      ],
      "execution_count": 2,
      "outputs": []
    },
    {
      "cell_type": "code",
      "metadata": {
        "id": "7Sh04xjXAfke"
      },
      "source": [
        "#criar o DataFrame\n",
        "df = pd.read_csv(\"http://dl.dropboxusercontent.com/s/yyfeoxqw61o3iel/df_rides.csv\")"
      ],
      "execution_count": 3,
      "outputs": []
    },
    {
      "cell_type": "code",
      "metadata": {
        "colab": {
          "base_uri": "https://localhost:8080/",
          "height": 238
        },
        "id": "bChrKwzSAkfL",
        "outputId": "9e741675-45a2-48c4-ef89-b0600972f33f"
      },
      "source": [
        "#mostrar as 5 primeiras entradas\n",
        "df.head()"
      ],
      "execution_count": 4,
      "outputs": [
        {
          "output_type": "execute_result",
          "data": {
            "text/html": [
              "<div>\n",
              "<style scoped>\n",
              "    .dataframe tbody tr th:only-of-type {\n",
              "        vertical-align: middle;\n",
              "    }\n",
              "\n",
              "    .dataframe tbody tr th {\n",
              "        vertical-align: top;\n",
              "    }\n",
              "\n",
              "    .dataframe thead th {\n",
              "        text-align: right;\n",
              "    }\n",
              "</style>\n",
              "<table border=\"1\" class=\"dataframe\">\n",
              "  <thead>\n",
              "    <tr style=\"text-align: right;\">\n",
              "      <th></th>\n",
              "      <th>user_gender</th>\n",
              "      <th>user_birthdate</th>\n",
              "      <th>user_residence</th>\n",
              "      <th>ride_date</th>\n",
              "      <th>time_start</th>\n",
              "      <th>time_end</th>\n",
              "      <th>station_start</th>\n",
              "      <th>station_end</th>\n",
              "      <th>ride_duration</th>\n",
              "      <th>ride_late</th>\n",
              "    </tr>\n",
              "  </thead>\n",
              "  <tbody>\n",
              "    <tr>\n",
              "      <th>0</th>\n",
              "      <td>M</td>\n",
              "      <td>1971-06-08</td>\n",
              "      <td>NaN</td>\n",
              "      <td>2018-01-01</td>\n",
              "      <td>06:05:18</td>\n",
              "      <td>06:21:33</td>\n",
              "      <td>11 - Rodoviária 2</td>\n",
              "      <td>41 - Instituto de Artes</td>\n",
              "      <td>16.250000</td>\n",
              "      <td>0.0</td>\n",
              "    </tr>\n",
              "    <tr>\n",
              "      <th>1</th>\n",
              "      <td>M</td>\n",
              "      <td>1989-02-11</td>\n",
              "      <td>DF</td>\n",
              "      <td>2018-01-01</td>\n",
              "      <td>06:27:01</td>\n",
              "      <td>06:32:17</td>\n",
              "      <td>26 - Ministério da Saude</td>\n",
              "      <td>28 - CNMP - Conselho Nacional do Ministério Pú...</td>\n",
              "      <td>5.266667</td>\n",
              "      <td>0.0</td>\n",
              "    </tr>\n",
              "    <tr>\n",
              "      <th>2</th>\n",
              "      <td>M</td>\n",
              "      <td>1968-07-19</td>\n",
              "      <td>NaN</td>\n",
              "      <td>2018-01-01</td>\n",
              "      <td>06:29:33</td>\n",
              "      <td>06:44:57</td>\n",
              "      <td>11 - Rodoviária 2</td>\n",
              "      <td>43 - Biblioteca Central</td>\n",
              "      <td>15.400000</td>\n",
              "      <td>0.0</td>\n",
              "    </tr>\n",
              "    <tr>\n",
              "      <th>3</th>\n",
              "      <td>M</td>\n",
              "      <td>1991-12-19</td>\n",
              "      <td>NaN</td>\n",
              "      <td>2018-01-01</td>\n",
              "      <td>06:53:53</td>\n",
              "      <td>06:59:45</td>\n",
              "      <td>10 - Ministério dos Transportes</td>\n",
              "      <td>6 - Rodoviária</td>\n",
              "      <td>5.866667</td>\n",
              "      <td>0.0</td>\n",
              "    </tr>\n",
              "    <tr>\n",
              "      <th>4</th>\n",
              "      <td>M</td>\n",
              "      <td>1969-03-03</td>\n",
              "      <td>DF</td>\n",
              "      <td>2018-01-01</td>\n",
              "      <td>06:58:56</td>\n",
              "      <td>17:40:04</td>\n",
              "      <td>15 - Brasil 21</td>\n",
              "      <td>11 - Rodoviária 2</td>\n",
              "      <td>641.133333</td>\n",
              "      <td>1.0</td>\n",
              "    </tr>\n",
              "  </tbody>\n",
              "</table>\n",
              "</div>"
            ],
            "text/plain": [
              "  user_gender user_birthdate  ... ride_duration ride_late\n",
              "0           M     1971-06-08  ...     16.250000       0.0\n",
              "1           M     1989-02-11  ...      5.266667       0.0\n",
              "2           M     1968-07-19  ...     15.400000       0.0\n",
              "3           M     1991-12-19  ...      5.866667       0.0\n",
              "4           M     1969-03-03  ...    641.133333       1.0\n",
              "\n",
              "[5 rows x 10 columns]"
            ]
          },
          "metadata": {
            "tags": []
          },
          "execution_count": 4
        }
      ]
    },
    {
      "cell_type": "code",
      "metadata": {
        "colab": {
          "base_uri": "https://localhost:8080/",
          "height": 204
        },
        "id": "7D9QqnduArJR",
        "outputId": "1cccf568-a031-40ac-a760-4270827f6147"
      },
      "source": [
        "#mostrar as 5 últimas linhas\n",
        "df.tail()"
      ],
      "execution_count": 5,
      "outputs": [
        {
          "output_type": "execute_result",
          "data": {
            "text/html": [
              "<div>\n",
              "<style scoped>\n",
              "    .dataframe tbody tr th:only-of-type {\n",
              "        vertical-align: middle;\n",
              "    }\n",
              "\n",
              "    .dataframe tbody tr th {\n",
              "        vertical-align: top;\n",
              "    }\n",
              "\n",
              "    .dataframe thead th {\n",
              "        text-align: right;\n",
              "    }\n",
              "</style>\n",
              "<table border=\"1\" class=\"dataframe\">\n",
              "  <thead>\n",
              "    <tr style=\"text-align: right;\">\n",
              "      <th></th>\n",
              "      <th>user_gender</th>\n",
              "      <th>user_birthdate</th>\n",
              "      <th>user_residence</th>\n",
              "      <th>ride_date</th>\n",
              "      <th>time_start</th>\n",
              "      <th>time_end</th>\n",
              "      <th>station_start</th>\n",
              "      <th>station_end</th>\n",
              "      <th>ride_duration</th>\n",
              "      <th>ride_late</th>\n",
              "    </tr>\n",
              "  </thead>\n",
              "  <tbody>\n",
              "    <tr>\n",
              "      <th>287317</th>\n",
              "      <td>M</td>\n",
              "      <td>1994-01-16</td>\n",
              "      <td>DF</td>\n",
              "      <td>2018-08-31</td>\n",
              "      <td>23:11:42</td>\n",
              "      <td>23:40:20</td>\n",
              "      <td>47 - EQN 410/411</td>\n",
              "      <td>47 - EQN 410/411</td>\n",
              "      <td>28.633333</td>\n",
              "      <td>0.0</td>\n",
              "    </tr>\n",
              "    <tr>\n",
              "      <th>287318</th>\n",
              "      <td>M</td>\n",
              "      <td>1990-04-15</td>\n",
              "      <td>NaN</td>\n",
              "      <td>2018-08-31</td>\n",
              "      <td>23:12:02</td>\n",
              "      <td>23:40:10</td>\n",
              "      <td>47 - EQN 410/411</td>\n",
              "      <td>47 - EQN 410/411</td>\n",
              "      <td>28.133333</td>\n",
              "      <td>0.0</td>\n",
              "    </tr>\n",
              "    <tr>\n",
              "      <th>287319</th>\n",
              "      <td>M</td>\n",
              "      <td>1976-06-19</td>\n",
              "      <td>DF</td>\n",
              "      <td>2018-08-31</td>\n",
              "      <td>23:15:31</td>\n",
              "      <td>23:18:40</td>\n",
              "      <td>34 - Shopping Mall</td>\n",
              "      <td>22 - 102 Sul</td>\n",
              "      <td>3.150000</td>\n",
              "      <td>0.0</td>\n",
              "    </tr>\n",
              "    <tr>\n",
              "      <th>287320</th>\n",
              "      <td>M</td>\n",
              "      <td>1978-01-27</td>\n",
              "      <td>NaN</td>\n",
              "      <td>2018-08-31</td>\n",
              "      <td>23:20:42</td>\n",
              "      <td>23:27:01</td>\n",
              "      <td>24 - Galeria</td>\n",
              "      <td>33 - EQS 104/304</td>\n",
              "      <td>6.316667</td>\n",
              "      <td>0.0</td>\n",
              "    </tr>\n",
              "    <tr>\n",
              "      <th>287321</th>\n",
              "      <td>M</td>\n",
              "      <td>1984-05-27</td>\n",
              "      <td>NaN</td>\n",
              "      <td>2018-08-31</td>\n",
              "      <td>23:21:18</td>\n",
              "      <td>23:25:28</td>\n",
              "      <td>14 - Brasília Shopping</td>\n",
              "      <td>6 - Rodoviária</td>\n",
              "      <td>4.166667</td>\n",
              "      <td>0.0</td>\n",
              "    </tr>\n",
              "  </tbody>\n",
              "</table>\n",
              "</div>"
            ],
            "text/plain": [
              "       user_gender user_birthdate  ... ride_duration ride_late\n",
              "287317           M     1994-01-16  ...     28.633333       0.0\n",
              "287318           M     1990-04-15  ...     28.133333       0.0\n",
              "287319           M     1976-06-19  ...      3.150000       0.0\n",
              "287320           M     1978-01-27  ...      6.316667       0.0\n",
              "287321           M     1984-05-27  ...      4.166667       0.0\n",
              "\n",
              "[5 rows x 10 columns]"
            ]
          },
          "metadata": {
            "tags": []
          },
          "execution_count": 5
        }
      ]
    },
    {
      "cell_type": "markdown",
      "metadata": {
        "id": "PIuSErfmE5Fx"
      },
      "source": [
        "* ## Resumo das informações estatísticas\n",
        "\n",
        "Uma das maneiras mais simples de se iniciar uma análise exploratória das variáveis numéricas é utilizando o método `describe()`.\n",
        "\n",
        "Imediatamente você obtém um resumo contendo algumas das principais informações estatísticas relevantes:\n",
        "\n",
        "* **count** - quantidade de entradas válidas\n",
        "* **mean** - média dos valores\n",
        "* **std** - desvio padrão\n",
        "* **min** - menor valor da coluna\n",
        "* **25%** - percentil 25\n",
        "* **50%** - percentil 50 (e mediana)\n",
        "* **75%** - percentil 75\n",
        "* **max** - maior valor da coluna\n",
        "\n",
        "É possível identificar de cara colunas com valores ausentes e possíveis *outliers* (por exemplo, olhando o valor da mediana e comparando com valores máximos e mínimos)"
      ]
    },
    {
      "cell_type": "code",
      "metadata": {
        "colab": {
          "base_uri": "https://localhost:8080/",
          "height": 297
        },
        "id": "QreqZBRCVoU0",
        "outputId": "20ec9d97-b924-4b42-e58c-dc6e8b33c633"
      },
      "source": [
        "#mostra variáveis numéricas e retorna um resumo estatístico\n",
        "df.describe()"
      ],
      "execution_count": 6,
      "outputs": [
        {
          "output_type": "execute_result",
          "data": {
            "text/html": [
              "<div>\n",
              "<style scoped>\n",
              "    .dataframe tbody tr th:only-of-type {\n",
              "        vertical-align: middle;\n",
              "    }\n",
              "\n",
              "    .dataframe tbody tr th {\n",
              "        vertical-align: top;\n",
              "    }\n",
              "\n",
              "    .dataframe thead th {\n",
              "        text-align: right;\n",
              "    }\n",
              "</style>\n",
              "<table border=\"1\" class=\"dataframe\">\n",
              "  <thead>\n",
              "    <tr style=\"text-align: right;\">\n",
              "      <th></th>\n",
              "      <th>ride_duration</th>\n",
              "      <th>ride_late</th>\n",
              "    </tr>\n",
              "  </thead>\n",
              "  <tbody>\n",
              "    <tr>\n",
              "      <th>count</th>\n",
              "      <td>214148.000000</td>\n",
              "      <td>214148.000000</td>\n",
              "    </tr>\n",
              "    <tr>\n",
              "      <th>mean</th>\n",
              "      <td>29.915932</td>\n",
              "      <td>0.098829</td>\n",
              "    </tr>\n",
              "    <tr>\n",
              "      <th>std</th>\n",
              "      <td>58.857297</td>\n",
              "      <td>0.298433</td>\n",
              "    </tr>\n",
              "    <tr>\n",
              "      <th>min</th>\n",
              "      <td>3.000000</td>\n",
              "      <td>0.000000</td>\n",
              "    </tr>\n",
              "    <tr>\n",
              "      <th>25%</th>\n",
              "      <td>8.083333</td>\n",
              "      <td>0.000000</td>\n",
              "    </tr>\n",
              "    <tr>\n",
              "      <th>50%</th>\n",
              "      <td>14.200000</td>\n",
              "      <td>0.000000</td>\n",
              "    </tr>\n",
              "    <tr>\n",
              "      <th>75%</th>\n",
              "      <td>33.766667</td>\n",
              "      <td>0.000000</td>\n",
              "    </tr>\n",
              "    <tr>\n",
              "      <th>max</th>\n",
              "      <td>999.600000</td>\n",
              "      <td>1.000000</td>\n",
              "    </tr>\n",
              "  </tbody>\n",
              "</table>\n",
              "</div>"
            ],
            "text/plain": [
              "       ride_duration      ride_late\n",
              "count  214148.000000  214148.000000\n",
              "mean       29.915932       0.098829\n",
              "std        58.857297       0.298433\n",
              "min         3.000000       0.000000\n",
              "25%         8.083333       0.000000\n",
              "50%        14.200000       0.000000\n",
              "75%        33.766667       0.000000\n",
              "max       999.600000       1.000000"
            ]
          },
          "metadata": {
            "tags": []
          },
          "execution_count": 6
        }
      ]
    },
    {
      "cell_type": "markdown",
      "metadata": {
        "id": "iWzEdlIdWD4h"
      },
      "source": [
        "* Count : quantas informações tem naquela coluna respectiva;\n",
        "* Mean: média, duração média dos passeios;\n",
        "* std: desvio padrão, variação de tempo de passeio entre usuários;\n",
        "* min: mínimo, tempo mínimo de duração do passeio;\n",
        "* 25%: 25% dos usuários estão abaixo de 8, 08 minutos de duração de passeio;\n",
        "* 50%: 50% dos usuários estão abaixo de 14,20 minutos de duração de passeio;\n",
        "* 75%: 75% dos usuários estão abaixo de 33,76 minutos de duração de passeio;\n",
        "* max: tempo máximo de uso."
      ]
    },
    {
      "cell_type": "markdown",
      "metadata": {
        "id": "E0wEBjAFQ_0M"
      },
      "source": [
        "# Medidas de Tendência Central\n",
        "\n",
        "Resumem um conjunto de valores em uma única medida que tendem a estar no centro da distribuição da amostra. São valores que tem o objetivo de resumir a amostra de tal maneira que esse valor tende a estar no centro da distribuição. A medida mais popular é a **média aritmética simples**.\n",
        "\n",
        "* Média aritmética: soma dos valores/qtde de itens\n",
        "* Moda: valor que aparece com maior frequência na amostra. É a única medida descritiva para dados categóricos(informações coletadas que representam características, atributos, qualidadea). Para valores que não há dados numéricos consegue calcular a moda através da frequência.\n",
        "* Amostra/Distribuição Amostral: acontece quando não tem nenhum valor que tenha aparecido com maior frequência.\n",
        "* Outlier: valor discrepante, valor que destoa da maioria dos valores da amostra.\n",
        "\n",
        "**Qual a melhor medida de tendência central?**\n",
        "\n",
        "Quando a média e a mediana tem valores próximos, indica possível ausência de valores discrepantes, de outliers, sendo assim, a melhor medida seria a média pois ela trabalha com todos os valores da amostra. Já quando há valores muito distantes um do outro, a presença de outliers, a melhor medida será trabalhar com a mediana mas tem que avaliar se este outlier é um valor que realmente poderia acontecer, se for possível de ser observado, usar a média, caso contrário, usar a mediana."
      ]
    },
    {
      "cell_type": "markdown",
      "metadata": {
        "id": "HMSBuBGeTZWG"
      },
      "source": [
        "# Medidas de Dispersão\n",
        "\n",
        "Maneira de mensurar a variabilidade de um conjunto de dados.\n",
        "Medidas:  \n",
        "\n",
        "* **Amplitude**: de menor importância. É a distância entre os extremos de uma amostra. É definida como sendo a diferença entre o maior e o menor valor do conjunto de dados. A vantagem da amplitude é sua facilidade de cálculo, porém, tem a desvantagem de levar em conta apenas dois valores, desprezando os demais.\n",
        "* **Variância e Desvio Padrão**: mais utilizados em análise de dados de maior importância. Medem a variação do conjunto de dados em torno da média.\n",
        "\n",
        "$$SD = \\sqrt{\\frac{1}{n}\\sum_{i=1}^{n}(x_i - \\overline{x}) ^ 2}$$\n",
        "\n",
        "Um número alto do desvio padrão indica que os dados estão bem espelhados em relação à sua média. Já um desvio padrão baixo mostra que os valores estão mais agrupados, mais \"juntos\". Para calcular o desvio padrão de qualquer coluna, basta executar o método `std()` para a variável."
      ]
    },
    {
      "cell_type": "code",
      "metadata": {
        "colab": {
          "base_uri": "https://localhost:8080/"
        },
        "id": "K9YrIfprgDLS",
        "outputId": "7ebdb37f-3259-4c05-d2da-d3736c0a3ce6"
      },
      "source": [
        "# calcular o desvio padrão para ride_calculation\n",
        "df.ride_duration.mean()"
      ],
      "execution_count": 7,
      "outputs": [
        {
          "output_type": "execute_result",
          "data": {
            "text/plain": [
              "29.915931894453134"
            ]
          },
          "metadata": {
            "tags": []
          },
          "execution_count": 7
        }
      ]
    },
    {
      "cell_type": "code",
      "metadata": {
        "colab": {
          "base_uri": "https://localhost:8080/"
        },
        "id": "e0mGPt3AgEbt",
        "outputId": "ab85e9ae-da10-42ce-b930-0404ee03014f"
      },
      "source": [
        "# valor máximo\n",
        "df.ride_duration.max()"
      ],
      "execution_count": 8,
      "outputs": [
        {
          "output_type": "execute_result",
          "data": {
            "text/plain": [
              "999.6"
            ]
          },
          "metadata": {
            "tags": []
          },
          "execution_count": 8
        }
      ]
    },
    {
      "cell_type": "code",
      "metadata": {
        "colab": {
          "base_uri": "https://localhost:8080/"
        },
        "id": "Jrl30PMDgNSg",
        "outputId": "13c0f395-ed9b-46d2-9f63-6898e2380021"
      },
      "source": [
        "# valor mínimo\n",
        "df.ride_duration.min()"
      ],
      "execution_count": 9,
      "outputs": [
        {
          "output_type": "execute_result",
          "data": {
            "text/plain": [
              "3.0"
            ]
          },
          "metadata": {
            "tags": []
          },
          "execution_count": 9
        }
      ]
    }
  ]
}