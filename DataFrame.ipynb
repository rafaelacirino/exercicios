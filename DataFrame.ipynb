{
  "nbformat": 4,
  "nbformat_minor": 0,
  "metadata": {
    "colab": {
      "name": "DataFrame.ipynb",
      "provenance": [],
      "authorship_tag": "ABX9TyMla8iRU6Q8nUNM6L198mUA",
      "include_colab_link": true
    },
    "kernelspec": {
      "name": "python3",
      "display_name": "Python 3"
    }
  },
  "cells": [
    {
      "cell_type": "markdown",
      "metadata": {
        "id": "view-in-github",
        "colab_type": "text"
      },
      "source": [
        "<a href=\"https://colab.research.google.com/github/rafaelacirino/exercicios/blob/main/DataFrame.ipynb\" target=\"_parent\"><img src=\"https://colab.research.google.com/assets/colab-badge.svg\" alt=\"Open In Colab\"/></a>"
      ]
    },
    {
      "cell_type": "markdown",
      "metadata": {
        "id": "wurArPQ0in4R"
      },
      "source": [
        "# Criando DataFrame"
      ]
    },
    {
      "cell_type": "markdown",
      "metadata": {
        "id": "6GW5Poynirfk"
      },
      "source": [
        "DataFrame são criados a partir de Dicionários e Listas. É uma estrutura de dados bidimensional em formato tabular, ou seja, com linhas e colunas e de vários tipos. \n",
        "Aqui vamos abordar como criar um DataFrame utilizando a biblioteca **Pandas**."
      ]
    },
    {
      "cell_type": "code",
      "metadata": {
        "id": "tDe1WvPNkPzf"
      },
      "source": [
        "#importar biblioteca Pandas\n",
        "import pandas as pd"
      ],
      "execution_count": 2,
      "outputs": []
    },
    {
      "cell_type": "markdown",
      "metadata": {
        "id": "Hh4KVtrakaLK"
      },
      "source": [
        "# DataFrame a partir de Dicionários\n",
        "\n",
        "Uma estrutura muito utilizada no *Python* é o dicionário. Dicionário é uma coleção de itens desordenados. Ele é composto de chaves e valores acossiados à essas chaves, chaves são uma espécie de identificador.\n",
        "É muito conveniente informarmos nossos dados em uma variável do tipo dict, pois sua conversão em DataFrame é muito simples e direta."
      ]
    },
    {
      "cell_type": "code",
      "metadata": {
        "id": "TbMWVI2Ql0dU"
      },
      "source": [
        "#criar dicionário\n",
        "dados = {\n",
        "    'nome': ['Carlos', 'Theo', 'Raquel', 'Fernanda'],\n",
        "    'idade': [35, 32, 15, 49],\n",
        "    'cidade': ['Araraquara', 'Belém', 'Natal', 'Curitiba'],\n",
        "    'comprou': [True, False, False, True]\n",
        "}"
      ],
      "execution_count": 3,
      "outputs": []
    },
    {
      "cell_type": "markdown",
      "metadata": {
        "id": "EOcosx56l_3M"
      },
      "source": [
        "O nome do dicionário é dados e as chaves são nome, idade, cidade e comprou. Cada chave tem seus respectivos valores."
      ]
    },
    {
      "cell_type": "code",
      "metadata": {
        "id": "5npYufsNmODY"
      },
      "source": [
        "#criando o DataFrame\n",
        "df = pd.DataFrame(dados)"
      ],
      "execution_count": 4,
      "outputs": []
    },
    {
      "cell_type": "code",
      "metadata": {
        "colab": {
          "base_uri": "https://localhost:8080/",
          "height": 173
        },
        "id": "QTDOaHlVmY51",
        "outputId": "3f63be29-ff17-4b03-9dd5-937a0f4948cb"
      },
      "source": [
        "#imprimindo o DataFrame\n",
        "df"
      ],
      "execution_count": 5,
      "outputs": [
        {
          "output_type": "execute_result",
          "data": {
            "text/html": [
              "<div>\n",
              "<style scoped>\n",
              "    .dataframe tbody tr th:only-of-type {\n",
              "        vertical-align: middle;\n",
              "    }\n",
              "\n",
              "    .dataframe tbody tr th {\n",
              "        vertical-align: top;\n",
              "    }\n",
              "\n",
              "    .dataframe thead th {\n",
              "        text-align: right;\n",
              "    }\n",
              "</style>\n",
              "<table border=\"1\" class=\"dataframe\">\n",
              "  <thead>\n",
              "    <tr style=\"text-align: right;\">\n",
              "      <th></th>\n",
              "      <th>nome</th>\n",
              "      <th>idade</th>\n",
              "      <th>cidade</th>\n",
              "      <th>comprou</th>\n",
              "    </tr>\n",
              "  </thead>\n",
              "  <tbody>\n",
              "    <tr>\n",
              "      <th>0</th>\n",
              "      <td>Carlos</td>\n",
              "      <td>35</td>\n",
              "      <td>Araraquara</td>\n",
              "      <td>True</td>\n",
              "    </tr>\n",
              "    <tr>\n",
              "      <th>1</th>\n",
              "      <td>Theo</td>\n",
              "      <td>32</td>\n",
              "      <td>Belém</td>\n",
              "      <td>False</td>\n",
              "    </tr>\n",
              "    <tr>\n",
              "      <th>2</th>\n",
              "      <td>Raquel</td>\n",
              "      <td>15</td>\n",
              "      <td>Natal</td>\n",
              "      <td>False</td>\n",
              "    </tr>\n",
              "    <tr>\n",
              "      <th>3</th>\n",
              "      <td>Fernanda</td>\n",
              "      <td>49</td>\n",
              "      <td>Curitiba</td>\n",
              "      <td>True</td>\n",
              "    </tr>\n",
              "  </tbody>\n",
              "</table>\n",
              "</div>"
            ],
            "text/plain": [
              "       nome  idade      cidade  comprou\n",
              "0    Carlos     35  Araraquara     True\n",
              "1      Theo     32       Belém    False\n",
              "2    Raquel     15       Natal    False\n",
              "3  Fernanda     49    Curitiba     True"
            ]
          },
          "metadata": {
            "tags": []
          },
          "execution_count": 5
        }
      ]
    },
    {
      "cell_type": "markdown",
      "metadata": {
        "id": "FsK1WVqrwnlb"
      },
      "source": [
        "## Modificar o índice e acessá-lo\n",
        "\n",
        "Para modificar o valor do índice, seja por números ou strings/letras, é só usar df.index[valores_escolhidos_par_cada_indice] e para acessar o conteúdo ou as informações contidas no respectivo índice, basta df.loc[indice_escolhido]. Vejamos:"
      ]
    },
    {
      "cell_type": "code",
      "metadata": {
        "id": "7DN0ih7exMOQ"
      },
      "source": [
        "#alterar valores do indice\n",
        "df.index = [10, 11, 12, 13]"
      ],
      "execution_count": 7,
      "outputs": []
    },
    {
      "cell_type": "code",
      "metadata": {
        "colab": {
          "base_uri": "https://localhost:8080/",
          "height": 173
        },
        "id": "MtOZIVxoxVr-",
        "outputId": "247707ef-bde6-49db-ef65-2f3198aad88f"
      },
      "source": [
        "df"
      ],
      "execution_count": 8,
      "outputs": [
        {
          "output_type": "execute_result",
          "data": {
            "text/html": [
              "<div>\n",
              "<style scoped>\n",
              "    .dataframe tbody tr th:only-of-type {\n",
              "        vertical-align: middle;\n",
              "    }\n",
              "\n",
              "    .dataframe tbody tr th {\n",
              "        vertical-align: top;\n",
              "    }\n",
              "\n",
              "    .dataframe thead th {\n",
              "        text-align: right;\n",
              "    }\n",
              "</style>\n",
              "<table border=\"1\" class=\"dataframe\">\n",
              "  <thead>\n",
              "    <tr style=\"text-align: right;\">\n",
              "      <th></th>\n",
              "      <th>nome</th>\n",
              "      <th>idade</th>\n",
              "      <th>cidade</th>\n",
              "      <th>comprou</th>\n",
              "    </tr>\n",
              "  </thead>\n",
              "  <tbody>\n",
              "    <tr>\n",
              "      <th>10</th>\n",
              "      <td>Carlos</td>\n",
              "      <td>35</td>\n",
              "      <td>Araraquara</td>\n",
              "      <td>True</td>\n",
              "    </tr>\n",
              "    <tr>\n",
              "      <th>11</th>\n",
              "      <td>Theo</td>\n",
              "      <td>32</td>\n",
              "      <td>Belém</td>\n",
              "      <td>False</td>\n",
              "    </tr>\n",
              "    <tr>\n",
              "      <th>12</th>\n",
              "      <td>Raquel</td>\n",
              "      <td>15</td>\n",
              "      <td>Natal</td>\n",
              "      <td>False</td>\n",
              "    </tr>\n",
              "    <tr>\n",
              "      <th>13</th>\n",
              "      <td>Fernanda</td>\n",
              "      <td>49</td>\n",
              "      <td>Curitiba</td>\n",
              "      <td>True</td>\n",
              "    </tr>\n",
              "  </tbody>\n",
              "</table>\n",
              "</div>"
            ],
            "text/plain": [
              "        nome  idade      cidade  comprou\n",
              "10    Carlos     35  Araraquara     True\n",
              "11      Theo     32       Belém    False\n",
              "12    Raquel     15       Natal    False\n",
              "13  Fernanda     49    Curitiba     True"
            ]
          },
          "metadata": {
            "tags": []
          },
          "execution_count": 8
        }
      ]
    },
    {
      "cell_type": "code",
      "metadata": {
        "colab": {
          "base_uri": "https://localhost:8080/"
        },
        "id": "H0mc0xlWxfd_",
        "outputId": "1d8b3e63-4103-496c-db5c-12ca93db4978"
      },
      "source": [
        "#acessar as informações do índice\n",
        "df.loc[12]"
      ],
      "execution_count": 9,
      "outputs": [
        {
          "output_type": "execute_result",
          "data": {
            "text/plain": [
              "nome       Raquel\n",
              "idade          15\n",
              "cidade      Natal\n",
              "comprou     False\n",
              "Name: 12, dtype: object"
            ]
          },
          "metadata": {
            "tags": []
          },
          "execution_count": 9
        }
      ]
    },
    {
      "cell_type": "markdown",
      "metadata": {
        "id": "o7RvU5ipx2BG"
      },
      "source": [
        "### Criar ou Acrescentar novas colunas\n",
        "\n",
        "Para acrescentar novas colunas, caso seja necessário, basta usar uma função do Pandas conhecida como *broadcasting*. Basta informar o nome da coluna em colchetes e atribuir um valor que será replicado para todas as linhas."
      ]
    },
    {
      "cell_type": "code",
      "metadata": {
        "id": "rU8UOe6GyWTF"
      },
      "source": [
        "#criar colunas\n",
        "df['Saldo'] = 0.0"
      ],
      "execution_count": 10,
      "outputs": []
    },
    {
      "cell_type": "code",
      "metadata": {
        "colab": {
          "base_uri": "https://localhost:8080/",
          "height": 173
        },
        "id": "wayPdpTqycB4",
        "outputId": "1bae2cb3-e8dc-4dbf-e9d4-03a8b95c49ed"
      },
      "source": [
        "#mostrando a coluna criada\n",
        "df"
      ],
      "execution_count": 11,
      "outputs": [
        {
          "output_type": "execute_result",
          "data": {
            "text/html": [
              "<div>\n",
              "<style scoped>\n",
              "    .dataframe tbody tr th:only-of-type {\n",
              "        vertical-align: middle;\n",
              "    }\n",
              "\n",
              "    .dataframe tbody tr th {\n",
              "        vertical-align: top;\n",
              "    }\n",
              "\n",
              "    .dataframe thead th {\n",
              "        text-align: right;\n",
              "    }\n",
              "</style>\n",
              "<table border=\"1\" class=\"dataframe\">\n",
              "  <thead>\n",
              "    <tr style=\"text-align: right;\">\n",
              "      <th></th>\n",
              "      <th>nome</th>\n",
              "      <th>idade</th>\n",
              "      <th>cidade</th>\n",
              "      <th>comprou</th>\n",
              "      <th>Saldo</th>\n",
              "    </tr>\n",
              "  </thead>\n",
              "  <tbody>\n",
              "    <tr>\n",
              "      <th>10</th>\n",
              "      <td>Carlos</td>\n",
              "      <td>35</td>\n",
              "      <td>Araraquara</td>\n",
              "      <td>True</td>\n",
              "      <td>0.0</td>\n",
              "    </tr>\n",
              "    <tr>\n",
              "      <th>11</th>\n",
              "      <td>Theo</td>\n",
              "      <td>32</td>\n",
              "      <td>Belém</td>\n",
              "      <td>False</td>\n",
              "      <td>0.0</td>\n",
              "    </tr>\n",
              "    <tr>\n",
              "      <th>12</th>\n",
              "      <td>Raquel</td>\n",
              "      <td>15</td>\n",
              "      <td>Natal</td>\n",
              "      <td>False</td>\n",
              "      <td>0.0</td>\n",
              "    </tr>\n",
              "    <tr>\n",
              "      <th>13</th>\n",
              "      <td>Fernanda</td>\n",
              "      <td>49</td>\n",
              "      <td>Curitiba</td>\n",
              "      <td>True</td>\n",
              "      <td>0.0</td>\n",
              "    </tr>\n",
              "  </tbody>\n",
              "</table>\n",
              "</div>"
            ],
            "text/plain": [
              "        nome  idade      cidade  comprou  Saldo\n",
              "10    Carlos     35  Araraquara     True    0.0\n",
              "11      Theo     32       Belém    False    0.0\n",
              "12    Raquel     15       Natal    False    0.0\n",
              "13  Fernanda     49    Curitiba     True    0.0"
            ]
          },
          "metadata": {
            "tags": []
          },
          "execution_count": 11
        }
      ]
    },
    {
      "cell_type": "markdown",
      "metadata": {
        "id": "L3liR24TylmC"
      },
      "source": [
        "### Altear o nome de uma coluna\n",
        "\n",
        "Caso seja necessário a alteração do nome de uma coluna, basta fazê-lo diretamente no atributo da variável."
      ]
    },
    {
      "cell_type": "code",
      "metadata": {
        "id": "gy6p6Vdgyx3h"
      },
      "source": [
        "#alterando o nome de uma coluna\n",
        "df.columns = ['Name', 'Age', 'City', 'Bought', 'Balance']"
      ],
      "execution_count": 12,
      "outputs": []
    },
    {
      "cell_type": "code",
      "metadata": {
        "colab": {
          "base_uri": "https://localhost:8080/",
          "height": 173
        },
        "id": "E2YFx2-lzPu6",
        "outputId": "887d8a84-457d-4c7d-b467-c26be35bfa4b"
      },
      "source": [
        "#imprimindo as novas colunas\n",
        "df"
      ],
      "execution_count": 13,
      "outputs": [
        {
          "output_type": "execute_result",
          "data": {
            "text/html": [
              "<div>\n",
              "<style scoped>\n",
              "    .dataframe tbody tr th:only-of-type {\n",
              "        vertical-align: middle;\n",
              "    }\n",
              "\n",
              "    .dataframe tbody tr th {\n",
              "        vertical-align: top;\n",
              "    }\n",
              "\n",
              "    .dataframe thead th {\n",
              "        text-align: right;\n",
              "    }\n",
              "</style>\n",
              "<table border=\"1\" class=\"dataframe\">\n",
              "  <thead>\n",
              "    <tr style=\"text-align: right;\">\n",
              "      <th></th>\n",
              "      <th>Name</th>\n",
              "      <th>Age</th>\n",
              "      <th>City</th>\n",
              "      <th>Bought</th>\n",
              "      <th>Balance</th>\n",
              "    </tr>\n",
              "  </thead>\n",
              "  <tbody>\n",
              "    <tr>\n",
              "      <th>10</th>\n",
              "      <td>Carlos</td>\n",
              "      <td>35</td>\n",
              "      <td>Araraquara</td>\n",
              "      <td>True</td>\n",
              "      <td>0.0</td>\n",
              "    </tr>\n",
              "    <tr>\n",
              "      <th>11</th>\n",
              "      <td>Theo</td>\n",
              "      <td>32</td>\n",
              "      <td>Belém</td>\n",
              "      <td>False</td>\n",
              "      <td>0.0</td>\n",
              "    </tr>\n",
              "    <tr>\n",
              "      <th>12</th>\n",
              "      <td>Raquel</td>\n",
              "      <td>15</td>\n",
              "      <td>Natal</td>\n",
              "      <td>False</td>\n",
              "      <td>0.0</td>\n",
              "    </tr>\n",
              "    <tr>\n",
              "      <th>13</th>\n",
              "      <td>Fernanda</td>\n",
              "      <td>49</td>\n",
              "      <td>Curitiba</td>\n",
              "      <td>True</td>\n",
              "      <td>0.0</td>\n",
              "    </tr>\n",
              "  </tbody>\n",
              "</table>\n",
              "</div>"
            ],
            "text/plain": [
              "        Name  Age        City  Bought  Balance\n",
              "10    Carlos   35  Araraquara    True      0.0\n",
              "11      Theo   32       Belém   False      0.0\n",
              "12    Raquel   15       Natal   False      0.0\n",
              "13  Fernanda   49    Curitiba    True      0.0"
            ]
          },
          "metadata": {
            "tags": []
          },
          "execution_count": 13
        }
      ]
    }
  ]
}