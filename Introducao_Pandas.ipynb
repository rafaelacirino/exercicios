{
  "nbformat": 4,
  "nbformat_minor": 0,
  "metadata": {
    "colab": {
      "name": "Introducao_Pandas.ipynb",
      "provenance": [],
      "authorship_tag": "ABX9TyOD8ByJU9H5UK7969EvTHo1",
      "include_colab_link": true
    },
    "kernelspec": {
      "name": "python3",
      "display_name": "Python 3"
    }
  },
  "cells": [
    {
      "cell_type": "markdown",
      "metadata": {
        "id": "view-in-github",
        "colab_type": "text"
      },
      "source": [
        "<a href=\"https://colab.research.google.com/github/rafaelacirino/exercicios/blob/main/Introducao_Pandas.ipynb\" target=\"_parent\"><img src=\"https://colab.research.google.com/assets/colab-badge.svg\" alt=\"Open In Colab\"/></a>"
      ]
    },
    {
      "cell_type": "markdown",
      "metadata": {
        "id": "Pol162CuwZWx"
      },
      "source": [
        "# **Introduçao Ao Pandas**\n",
        "\n",
        "## Exercícios de treino"
      ]
    },
    {
      "cell_type": "markdown",
      "metadata": {
        "id": "7vAEoOhO452j"
      },
      "source": [
        "<center><img src=\"https://raw.githubusercontent.com/rafaelacirino/exercicios/main/panda.jpeg?token=ALZALWVQFTAIDZOUPYZUZRC756LUU\"height=\"300px\"></center>"
      ]
    },
    {
      "cell_type": "markdown",
      "metadata": {
        "id": "4nHeV4FFwsFq"
      },
      "source": [
        "Pandas é uma biblioteca do Python cuja função é manipulação e análise de dados. Pandas pega um dado (em formato csv, xml etc) e cria um objeto em Python com linhas e coluna para que possa tratar e analisar esses dados. Cada coluna é chamada Series e o conjunto de Series é chamado DataFrame. \n",
        " Ao importar o conjunto de dados usando o Pandas, podem ser realizadas as seguintes ações, por exemplo:\n",
        "\n",
        "* Extrair informações estatísticas:\n",
        "  * Qual a média, mediana, valores máximos e mínimos?\n",
        "  * Qual é a distribuição das suas variáveis?\n",
        "  * Qual a correlação entre duas variáveis quaisquer?\n",
        "* Exportar os dados para um novo formato de arquivo\n",
        "* Visualizar gráficos dos mais diferentes tipos\n",
        "* Alimentar modelos de *machine learning* feitos em cima do Scikit-learn"
      ]
    },
    {
      "cell_type": "markdown",
      "metadata": {
        "id": "XvFioBaI4jrV"
      },
      "source": [
        "# Instalar o Pandas\n"
      ]
    },
    {
      "cell_type": "code",
      "metadata": {
        "id": "8HaK-ZDZ4svL"
      },
      "source": [
        "import pandas as pd"
      ],
      "execution_count": 1,
      "outputs": []
    },
    {
      "cell_type": "markdown",
      "metadata": {
        "id": "uuNAzw815yHD"
      },
      "source": [
        "# Importar arquivo csv\n",
        "\n",
        "Para importar o arquivo csv, utilizarei como exemplo os dados da ação ordinária COGN3.SA. Os dados foram extraídos do site [Yahoo Finance](https://finance.yahoo.com/), foi feito o download e disponibilizado o arquivo no seguinte [link](https://github.com/rafaelacirino/exercicios/blob/main/COGN3.SA.csv).\n",
        "Para importar o arquivo é simples, basta digitar o seguinte comando:\n",
        "df = pd.read_csv(\"link do arquivo\").\n",
        "O arquivo csv deve ser armazenado em uma variável que, neste caso, será chamada de df."
      ]
    },
    {
      "cell_type": "code",
      "metadata": {
        "id": "2tO8Kisw7rwS"
      },
      "source": [
        "#importar arquivo csv\n",
        "df = pd.read_csv(\"https://raw.githubusercontent.com/rafaelacirino/exercicios/main/COGN3.SA.csv?token=ALZALWRHBLX6H37ZBX36ADS756M2S\")"
      ],
      "execution_count": 2,
      "outputs": []
    },
    {
      "cell_type": "code",
      "metadata": {
        "colab": {
          "base_uri": "https://localhost:8080/"
        },
        "id": "Oa6-87B18Ak1",
        "outputId": "bfbaa1d3-be7e-4f0c-f668-3f36bfa4d6c3"
      },
      "source": [
        "#ver o tipo da variável \n",
        "type(df)"
      ],
      "execution_count": 3,
      "outputs": [
        {
          "output_type": "execute_result",
          "data": {
            "text/plain": [
              "pandas.core.frame.DataFrame"
            ]
          },
          "metadata": {
            "tags": []
          },
          "execution_count": 3
        }
      ]
    },
    {
      "cell_type": "code",
      "metadata": {
        "colab": {
          "base_uri": "https://localhost:8080/"
        },
        "id": "vqpOuvgn8Rov",
        "outputId": "6e2c6a2c-5618-43ac-d557-24735afa5e41"
      },
      "source": [
        "#mostrar o tamanho do DataFrame\n",
        "df.shape"
      ],
      "execution_count": 4,
      "outputs": [
        {
          "output_type": "execute_result",
          "data": {
            "text/plain": [
              "(125, 7)"
            ]
          },
          "metadata": {
            "tags": []
          },
          "execution_count": 4
        }
      ]
    },
    {
      "cell_type": "markdown",
      "metadata": {
        "id": "s2K1HDtc87rh"
      },
      "source": [
        "Aqui esta função nos mostrou qual o tamanho do DataFrame. Neste caso, ele é formado por 125 linhas e 7 colunas."
      ]
    },
    {
      "cell_type": "code",
      "metadata": {
        "colab": {
          "base_uri": "https://localhost:8080/"
        },
        "id": "LshUuWOF9GYe",
        "outputId": "1cd10723-c047-4d4d-b459-a16398f9696f"
      },
      "source": [
        "#mostrar o nome das colunas\n",
        "df.columns"
      ],
      "execution_count": 7,
      "outputs": [
        {
          "output_type": "execute_result",
          "data": {
            "text/plain": [
              "Index(['Date', 'Open', 'High', 'Low', 'Close', 'Adj Close', 'Volume'], dtype='object')"
            ]
          },
          "metadata": {
            "tags": []
          },
          "execution_count": 7
        }
      ]
    },
    {
      "cell_type": "markdown",
      "metadata": {
        "id": "VEumMvvu9L_c"
      },
      "source": [
        "Aqui mostra o nome das colunas e seu tipo. Neste caso, é do tipo objeto. Para saber o tipo de cada coluna, basta a função seguinte: type(df['nome_da_coluna']) ou df.dtypes que retornará o tipo de cada coluna"
      ]
    },
    {
      "cell_type": "code",
      "metadata": {
        "colab": {
          "base_uri": "https://localhost:8080/"
        },
        "id": "u6koOohF9hsJ",
        "outputId": "a81b56d7-e18a-453b-91b9-f679f8f47b9c"
      },
      "source": [
        "#saber o tipo da coluna\n",
        "type(df['Close'])"
      ],
      "execution_count": 8,
      "outputs": [
        {
          "output_type": "execute_result",
          "data": {
            "text/plain": [
              "pandas.core.series.Series"
            ]
          },
          "metadata": {
            "tags": []
          },
          "execution_count": 8
        }
      ]
    },
    {
      "cell_type": "code",
      "metadata": {
        "colab": {
          "base_uri": "https://localhost:8080/"
        },
        "id": "16zzqqet-q1o",
        "outputId": "64e18bd7-d42c-40fc-8bf2-2e55536d183d"
      },
      "source": [
        "#saber o tipo de cada coluna\n",
        "df.dtypes"
      ],
      "execution_count": 13,
      "outputs": [
        {
          "output_type": "execute_result",
          "data": {
            "text/plain": [
              "Date          object\n",
              "Open         float64\n",
              "High         float64\n",
              "Low          float64\n",
              "Close        float64\n",
              "Adj Close    float64\n",
              "Volume         int64\n",
              "dtype: object"
            ]
          },
          "metadata": {
            "tags": []
          },
          "execution_count": 13
        }
      ]
    },
    {
      "cell_type": "markdown",
      "metadata": {
        "id": "y12pIrJ2_S6y"
      },
      "source": [
        "Para saber se há valores ausentes e retornar o tipo de cada coluna, basta df.info()"
      ]
    },
    {
      "cell_type": "code",
      "metadata": {
        "colab": {
          "base_uri": "https://localhost:8080/"
        },
        "id": "q8anWAWq_aRd",
        "outputId": "1fc6d1e5-511e-497f-ec28-730a54e6669a"
      },
      "source": [
        "#tipo e se há valores ausentes\n",
        "df.info()"
      ],
      "execution_count": 14,
      "outputs": [
        {
          "output_type": "stream",
          "text": [
            "<class 'pandas.core.frame.DataFrame'>\n",
            "RangeIndex: 125 entries, 0 to 124\n",
            "Data columns (total 7 columns):\n",
            " #   Column     Non-Null Count  Dtype  \n",
            "---  ------     --------------  -----  \n",
            " 0   Date       125 non-null    object \n",
            " 1   Open       125 non-null    float64\n",
            " 2   High       125 non-null    float64\n",
            " 3   Low        125 non-null    float64\n",
            " 4   Close      125 non-null    float64\n",
            " 5   Adj Close  125 non-null    float64\n",
            " 6   Volume     125 non-null    int64  \n",
            "dtypes: float64(5), int64(1), object(1)\n",
            "memory usage: 7.0+ KB\n"
          ],
          "name": "stdout"
        }
      ]
    },
    {
      "cell_type": "code",
      "metadata": {
        "colab": {
          "base_uri": "https://localhost:8080/",
          "height": 204
        },
        "id": "Qqm30Lkl8beZ",
        "outputId": "5b578aff-8fa5-4ebf-a04a-fef949fc493c"
      },
      "source": [
        "#mostrar as 5 primeiras linhas\n",
        "df.head()"
      ],
      "execution_count": 5,
      "outputs": [
        {
          "output_type": "execute_result",
          "data": {
            "text/html": [
              "<div>\n",
              "<style scoped>\n",
              "    .dataframe tbody tr th:only-of-type {\n",
              "        vertical-align: middle;\n",
              "    }\n",
              "\n",
              "    .dataframe tbody tr th {\n",
              "        vertical-align: top;\n",
              "    }\n",
              "\n",
              "    .dataframe thead th {\n",
              "        text-align: right;\n",
              "    }\n",
              "</style>\n",
              "<table border=\"1\" class=\"dataframe\">\n",
              "  <thead>\n",
              "    <tr style=\"text-align: right;\">\n",
              "      <th></th>\n",
              "      <th>Date</th>\n",
              "      <th>Open</th>\n",
              "      <th>High</th>\n",
              "      <th>Low</th>\n",
              "      <th>Close</th>\n",
              "      <th>Adj Close</th>\n",
              "      <th>Volume</th>\n",
              "    </tr>\n",
              "  </thead>\n",
              "  <tbody>\n",
              "    <tr>\n",
              "      <th>0</th>\n",
              "      <td>2020-07-01</td>\n",
              "      <td>6.64</td>\n",
              "      <td>6.97</td>\n",
              "      <td>6.59</td>\n",
              "      <td>6.97</td>\n",
              "      <td>6.97</td>\n",
              "      <td>56882300</td>\n",
              "    </tr>\n",
              "    <tr>\n",
              "      <th>1</th>\n",
              "      <td>2020-07-02</td>\n",
              "      <td>7.11</td>\n",
              "      <td>7.42</td>\n",
              "      <td>6.78</td>\n",
              "      <td>6.92</td>\n",
              "      <td>6.92</td>\n",
              "      <td>86721200</td>\n",
              "    </tr>\n",
              "    <tr>\n",
              "      <th>2</th>\n",
              "      <td>2020-07-03</td>\n",
              "      <td>6.93</td>\n",
              "      <td>7.20</td>\n",
              "      <td>6.80</td>\n",
              "      <td>7.20</td>\n",
              "      <td>7.20</td>\n",
              "      <td>34928400</td>\n",
              "    </tr>\n",
              "    <tr>\n",
              "      <th>3</th>\n",
              "      <td>2020-07-06</td>\n",
              "      <td>8.05</td>\n",
              "      <td>8.05</td>\n",
              "      <td>7.43</td>\n",
              "      <td>7.60</td>\n",
              "      <td>7.60</td>\n",
              "      <td>130989600</td>\n",
              "    </tr>\n",
              "    <tr>\n",
              "      <th>4</th>\n",
              "      <td>2020-07-07</td>\n",
              "      <td>7.53</td>\n",
              "      <td>7.78</td>\n",
              "      <td>7.32</td>\n",
              "      <td>7.45</td>\n",
              "      <td>7.45</td>\n",
              "      <td>77476000</td>\n",
              "    </tr>\n",
              "  </tbody>\n",
              "</table>\n",
              "</div>"
            ],
            "text/plain": [
              "         Date  Open  High   Low  Close  Adj Close     Volume\n",
              "0  2020-07-01  6.64  6.97  6.59   6.97       6.97   56882300\n",
              "1  2020-07-02  7.11  7.42  6.78   6.92       6.92   86721200\n",
              "2  2020-07-03  6.93  7.20  6.80   7.20       7.20   34928400\n",
              "3  2020-07-06  8.05  8.05  7.43   7.60       7.60  130989600\n",
              "4  2020-07-07  7.53  7.78  7.32   7.45       7.45   77476000"
            ]
          },
          "metadata": {
            "tags": []
          },
          "execution_count": 5
        }
      ]
    },
    {
      "cell_type": "code",
      "metadata": {
        "colab": {
          "base_uri": "https://localhost:8080/",
          "height": 204
        },
        "id": "MDSMkG-q8iK4",
        "outputId": "b2e621e4-1631-48ae-bcee-923d4a3f0a8b"
      },
      "source": [
        "#mostrar as 5 últimas linhas\n",
        "df.tail()"
      ],
      "execution_count": 6,
      "outputs": [
        {
          "output_type": "execute_result",
          "data": {
            "text/html": [
              "<div>\n",
              "<style scoped>\n",
              "    .dataframe tbody tr th:only-of-type {\n",
              "        vertical-align: middle;\n",
              "    }\n",
              "\n",
              "    .dataframe tbody tr th {\n",
              "        vertical-align: top;\n",
              "    }\n",
              "\n",
              "    .dataframe thead th {\n",
              "        text-align: right;\n",
              "    }\n",
              "</style>\n",
              "<table border=\"1\" class=\"dataframe\">\n",
              "  <thead>\n",
              "    <tr style=\"text-align: right;\">\n",
              "      <th></th>\n",
              "      <th>Date</th>\n",
              "      <th>Open</th>\n",
              "      <th>High</th>\n",
              "      <th>Low</th>\n",
              "      <th>Close</th>\n",
              "      <th>Adj Close</th>\n",
              "      <th>Volume</th>\n",
              "    </tr>\n",
              "  </thead>\n",
              "  <tbody>\n",
              "    <tr>\n",
              "      <th>120</th>\n",
              "      <td>2020-12-22</td>\n",
              "      <td>4.66</td>\n",
              "      <td>4.69</td>\n",
              "      <td>4.49</td>\n",
              "      <td>4.50</td>\n",
              "      <td>4.50</td>\n",
              "      <td>48485700</td>\n",
              "    </tr>\n",
              "    <tr>\n",
              "      <th>121</th>\n",
              "      <td>2020-12-23</td>\n",
              "      <td>4.52</td>\n",
              "      <td>4.63</td>\n",
              "      <td>4.52</td>\n",
              "      <td>4.60</td>\n",
              "      <td>4.60</td>\n",
              "      <td>31338200</td>\n",
              "    </tr>\n",
              "    <tr>\n",
              "      <th>122</th>\n",
              "      <td>2020-12-28</td>\n",
              "      <td>4.62</td>\n",
              "      <td>4.65</td>\n",
              "      <td>4.55</td>\n",
              "      <td>4.60</td>\n",
              "      <td>4.60</td>\n",
              "      <td>45061400</td>\n",
              "    </tr>\n",
              "    <tr>\n",
              "      <th>123</th>\n",
              "      <td>2020-12-29</td>\n",
              "      <td>4.63</td>\n",
              "      <td>4.84</td>\n",
              "      <td>4.62</td>\n",
              "      <td>4.69</td>\n",
              "      <td>4.69</td>\n",
              "      <td>52931100</td>\n",
              "    </tr>\n",
              "    <tr>\n",
              "      <th>124</th>\n",
              "      <td>2020-12-30</td>\n",
              "      <td>4.71</td>\n",
              "      <td>4.76</td>\n",
              "      <td>4.63</td>\n",
              "      <td>4.63</td>\n",
              "      <td>4.63</td>\n",
              "      <td>27328600</td>\n",
              "    </tr>\n",
              "  </tbody>\n",
              "</table>\n",
              "</div>"
            ],
            "text/plain": [
              "           Date  Open  High   Low  Close  Adj Close    Volume\n",
              "120  2020-12-22  4.66  4.69  4.49   4.50       4.50  48485700\n",
              "121  2020-12-23  4.52  4.63  4.52   4.60       4.60  31338200\n",
              "122  2020-12-28  4.62  4.65  4.55   4.60       4.60  45061400\n",
              "123  2020-12-29  4.63  4.84  4.62   4.69       4.69  52931100\n",
              "124  2020-12-30  4.71  4.76  4.63   4.63       4.63  27328600"
            ]
          },
          "metadata": {
            "tags": []
          },
          "execution_count": 6
        }
      ]
    },
    {
      "cell_type": "markdown",
      "metadata": {
        "id": "CrbEkEYZ8qYu"
      },
      "source": [
        "Fazer esses passos, df.head() e df.tail(), mostrará se o DataFrame seguiu um parâmetro, ou seja, como nosso DataFrame foi estruturado."
      ]
    },
    {
      "cell_type": "markdown",
      "metadata": {
        "id": "vDYcH9cm_iLS"
      },
      "source": [
        "Vamos selecionar uma coluna específica e calcular algumas informações estatísticas"
      ]
    },
    {
      "cell_type": "code",
      "metadata": {
        "colab": {
          "base_uri": "https://localhost:8080/"
        },
        "id": "hSpNIXz2_oTf",
        "outputId": "07dc6454-ebda-45ca-ed63-7005d7e83adc"
      },
      "source": [
        "#selecionar e calcular média, mediana e somatório da coluna High\n",
        "df['High'].mean()"
      ],
      "execution_count": 15,
      "outputs": [
        {
          "output_type": "execute_result",
          "data": {
            "text/plain": [
              "6.21128"
            ]
          },
          "metadata": {
            "tags": []
          },
          "execution_count": 15
        }
      ]
    },
    {
      "cell_type": "code",
      "metadata": {
        "colab": {
          "base_uri": "https://localhost:8080/"
        },
        "id": "7T69Sv-T_4Qw",
        "outputId": "eb30ebb3-9014-4427-dbb5-f7b021bba161"
      },
      "source": [
        "df['High'].median()"
      ],
      "execution_count": 16,
      "outputs": [
        {
          "output_type": "execute_result",
          "data": {
            "text/plain": [
              "5.61"
            ]
          },
          "metadata": {
            "tags": []
          },
          "execution_count": 16
        }
      ]
    },
    {
      "cell_type": "code",
      "metadata": {
        "colab": {
          "base_uri": "https://localhost:8080/"
        },
        "id": "-Tv6IgGn_-6N",
        "outputId": "883ea3f8-e563-4f8a-b508-81372b0996a9"
      },
      "source": [
        "df['High'].sum()"
      ],
      "execution_count": 17,
      "outputs": [
        {
          "output_type": "execute_result",
          "data": {
            "text/plain": [
              "776.4100000000001"
            ]
          },
          "metadata": {
            "tags": []
          },
          "execution_count": 17
        }
      ]
    },
    {
      "cell_type": "markdown",
      "metadata": {
        "id": "hY-MK6tCAPSP"
      },
      "source": [
        "#Trabalhando com Datas\n",
        "Para trabalhar com datas deve-se primeiro converter o formato da coluna respectiva. Primeiro deve-se analisar o tipo (df.Date, mostra o tipo da coluna Date), geralmente o formato padrão é o object. Para converter e poder manipular os dados das datas, usa a seguinte função: df.Date = pd.to_datetime(df.Date, format = \"%Y-%m-%d\").dentro dos parêntesis, informa qual o nome da coluna (df.Date), e o formato que se encontra a data (neste caso está no formato americano - %Y-%m-%d - %Y pois o ano está em 4 dígitos, caso fossem 2, seria %y, separado por traços e depois %m, mês, %d, dia).  "
      ]
    },
    {
      "cell_type": "code",
      "metadata": {
        "colab": {
          "base_uri": "https://localhost:8080/"
        },
        "id": "1sZptVyLBZFd",
        "outputId": "9f9e6590-f2b0-4a90-8b75-c9866f7c4b2a"
      },
      "source": [
        "#mostra o formato da coluna Date\n",
        "df.Date"
      ],
      "execution_count": 18,
      "outputs": [
        {
          "output_type": "execute_result",
          "data": {
            "text/plain": [
              "0      2020-07-01\n",
              "1      2020-07-02\n",
              "2      2020-07-03\n",
              "3      2020-07-06\n",
              "4      2020-07-07\n",
              "          ...    \n",
              "120    2020-12-22\n",
              "121    2020-12-23\n",
              "122    2020-12-28\n",
              "123    2020-12-29\n",
              "124    2020-12-30\n",
              "Name: Date, Length: 125, dtype: object"
            ]
          },
          "metadata": {
            "tags": []
          },
          "execution_count": 18
        }
      ]
    },
    {
      "cell_type": "code",
      "metadata": {
        "id": "FLo7Oz3aBgXu"
      },
      "source": [
        "#converter a coluna Date que está no tipo object para o tipo datetime\n",
        "df.Date = pd.to_datetime(df.Date, format = '%Y-%m-%d')"
      ],
      "execution_count": 19,
      "outputs": []
    },
    {
      "cell_type": "code",
      "metadata": {
        "colab": {
          "base_uri": "https://localhost:8080/"
        },
        "id": "dZ6TVXq5B0aE",
        "outputId": "e063ccf1-8caf-4227-e4bc-33b66e7fe7a9"
      },
      "source": [
        "#mostrar que foi modificado\n",
        "df.Date"
      ],
      "execution_count": 20,
      "outputs": [
        {
          "output_type": "execute_result",
          "data": {
            "text/plain": [
              "0     2020-07-01\n",
              "1     2020-07-02\n",
              "2     2020-07-03\n",
              "3     2020-07-06\n",
              "4     2020-07-07\n",
              "         ...    \n",
              "120   2020-12-22\n",
              "121   2020-12-23\n",
              "122   2020-12-28\n",
              "123   2020-12-29\n",
              "124   2020-12-30\n",
              "Name: Date, Length: 125, dtype: datetime64[ns]"
            ]
          },
          "metadata": {
            "tags": []
          },
          "execution_count": 20
        }
      ]
    },
    {
      "cell_type": "code",
      "metadata": {
        "colab": {
          "base_uri": "https://localhost:8080/"
        },
        "id": "pi1SWO4iB8o-",
        "outputId": "7512a88a-53c2-41b6-c9e6-c832a6145577"
      },
      "source": [
        "#acessa qualquer informação relacionado a data\n",
        "df.Date.dt.year"
      ],
      "execution_count": 21,
      "outputs": [
        {
          "output_type": "execute_result",
          "data": {
            "text/plain": [
              "0      2020\n",
              "1      2020\n",
              "2      2020\n",
              "3      2020\n",
              "4      2020\n",
              "       ... \n",
              "120    2020\n",
              "121    2020\n",
              "122    2020\n",
              "123    2020\n",
              "124    2020\n",
              "Name: Date, Length: 125, dtype: int64"
            ]
          },
          "metadata": {
            "tags": []
          },
          "execution_count": 21
        }
      ]
    },
    {
      "cell_type": "code",
      "metadata": {
        "colab": {
          "base_uri": "https://localhost:8080/"
        },
        "id": "AISsK62RCGSH",
        "outputId": "0b8b0c7f-ebb2-4d61-8632-00faf339cb57"
      },
      "source": [
        "#acessa mês\n",
        "df.Date.dt.month"
      ],
      "execution_count": 22,
      "outputs": [
        {
          "output_type": "execute_result",
          "data": {
            "text/plain": [
              "0       7\n",
              "1       7\n",
              "2       7\n",
              "3       7\n",
              "4       7\n",
              "       ..\n",
              "120    12\n",
              "121    12\n",
              "122    12\n",
              "123    12\n",
              "124    12\n",
              "Name: Date, Length: 125, dtype: int64"
            ]
          },
          "metadata": {
            "tags": []
          },
          "execution_count": 22
        }
      ]
    },
    {
      "cell_type": "code",
      "metadata": {
        "colab": {
          "base_uri": "https://localhost:8080/"
        },
        "id": "aV6gTfy6CQsp",
        "outputId": "9fcdd677-87b0-434f-b1b4-1b242f7c31be"
      },
      "source": [
        "#acessa a semana do ano\n",
        "df.Date.dt.weekofyear"
      ],
      "execution_count": 23,
      "outputs": [
        {
          "output_type": "stream",
          "text": [
            "/usr/local/lib/python3.6/dist-packages/ipykernel_launcher.py:2: FutureWarning: Series.dt.weekofyear and Series.dt.week have been deprecated.  Please use Series.dt.isocalendar().week instead.\n",
            "  \n"
          ],
          "name": "stderr"
        },
        {
          "output_type": "execute_result",
          "data": {
            "text/plain": [
              "0      27\n",
              "1      27\n",
              "2      27\n",
              "3      28\n",
              "4      28\n",
              "       ..\n",
              "120    52\n",
              "121    52\n",
              "122    53\n",
              "123    53\n",
              "124    53\n",
              "Name: Date, Length: 125, dtype: int64"
            ]
          },
          "metadata": {
            "tags": []
          },
          "execution_count": 23
        }
      ]
    }
  ]
}